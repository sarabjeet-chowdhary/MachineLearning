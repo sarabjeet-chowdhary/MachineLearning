{
 "cells": [
  {
   "cell_type": "code",
   "execution_count": 1,
   "metadata": {},
   "outputs": [],
   "source": [
    "#Import all the necessary modules\n",
    "import numpy as np\n",
    "import pandas as pd\n",
    "\n",
    "import matplotlib.pyplot as plt\n",
    "import seaborn as sns\n",
    "\n",
    "from sklearn.model_selection import train_test_split\n",
    "\n",
    "from sklearn.tree import DecisionTreeClassifier\n",
    "from sklearn.ensemble import RandomForestClassifier\n",
    "from sklearn.ensemble import AdaBoostClassifier\n",
    "from sklearn.ensemble import BaggingClassifier\n",
    "from sklearn.ensemble import GradientBoostingClassifier\n",
    "from sklearn.linear_model import LogisticRegression\n",
    "from sklearn.neural_network import MLPClassifier\n",
    "\n",
    "from sklearn.naive_bayes import MultinomialNB\n",
    "from sklearn.svm import LinearSVC\n",
    "\n",
    "from sklearn import linear_model\n",
    "\n",
    "from sklearn import metrics\n",
    "\n",
    "from sklearn.ensemble import VotingClassifier\n",
    "\n",
    "from sklearn.model_selection import cross_val_score\n",
    "from sklearn.model_selection import train_test_split\n",
    "\n",
    "from sklearn.metrics import accuracy_score\n",
    "\n",
    "from sklearn import preprocessing"
   ]
  },
  {
   "cell_type": "code",
   "execution_count": 2,
   "metadata": {},
   "outputs": [],
   "source": [
    "train = pd.read_csv('train.csv')"
   ]
  },
  {
   "cell_type": "code",
   "execution_count": 3,
   "metadata": {},
   "outputs": [
    {
     "data": {
      "text/plain": [
       "(149087, 21)"
      ]
     },
     "execution_count": 3,
     "metadata": {},
     "output_type": "execute_result"
    }
   ],
   "source": [
    "train.shape"
   ]
  },
  {
   "cell_type": "code",
   "execution_count": 4,
   "metadata": {},
   "outputs": [
    {
     "data": {
      "text/html": [
       "<div>\n",
       "<style scoped>\n",
       "    .dataframe tbody tr th:only-of-type {\n",
       "        vertical-align: middle;\n",
       "    }\n",
       "\n",
       "    .dataframe tbody tr th {\n",
       "        vertical-align: top;\n",
       "    }\n",
       "\n",
       "    .dataframe thead th {\n",
       "        text-align: right;\n",
       "    }\n",
       "</style>\n",
       "<table border=\"1\" class=\"dataframe\">\n",
       "  <thead>\n",
       "    <tr style=\"text-align: right;\">\n",
       "      <th></th>\n",
       "      <th>Sno</th>\n",
       "      <th>Year Type</th>\n",
       "      <th>Year</th>\n",
       "      <th>Organization Group Code</th>\n",
       "      <th>Organization Group</th>\n",
       "      <th>Department Code</th>\n",
       "      <th>Department</th>\n",
       "      <th>Union Code</th>\n",
       "      <th>Union</th>\n",
       "      <th>Job Family Code</th>\n",
       "      <th>...</th>\n",
       "      <th>Job Code</th>\n",
       "      <th>Job</th>\n",
       "      <th>Employee Identifier</th>\n",
       "      <th>Overtime</th>\n",
       "      <th>Other Salaries</th>\n",
       "      <th>Retirement</th>\n",
       "      <th>Health/Dental</th>\n",
       "      <th>Other Benefits</th>\n",
       "      <th>Total Benefits</th>\n",
       "      <th>Class</th>\n",
       "    </tr>\n",
       "  </thead>\n",
       "  <tbody>\n",
       "    <tr>\n",
       "      <th>53010</th>\n",
       "      <td>189438</td>\n",
       "      <td>Fiscal</td>\n",
       "      <td>2016</td>\n",
       "      <td>2</td>\n",
       "      <td>Public Works, Transportation &amp; Commerce</td>\n",
       "      <td>MTA</td>\n",
       "      <td>MTA Municipal Transprtn Agncy</td>\n",
       "      <td>790</td>\n",
       "      <td>SEIU - Miscellaneous, Local 1021</td>\n",
       "      <td>9100</td>\n",
       "      <td>...</td>\n",
       "      <td>9117</td>\n",
       "      <td>Pr Fare Collections Receiver</td>\n",
       "      <td>26300</td>\n",
       "      <td>0.00</td>\n",
       "      <td>0.00</td>\n",
       "      <td>9310.13</td>\n",
       "      <td>8473.86</td>\n",
       "      <td>4056.88</td>\n",
       "      <td>21840.87</td>\n",
       "      <td>2</td>\n",
       "    </tr>\n",
       "    <tr>\n",
       "      <th>98777</th>\n",
       "      <td>78195</td>\n",
       "      <td>Fiscal</td>\n",
       "      <td>2014</td>\n",
       "      <td>4</td>\n",
       "      <td>Community Health</td>\n",
       "      <td>DPH</td>\n",
       "      <td>DPH Public Health</td>\n",
       "      <td>790</td>\n",
       "      <td>SEIU - Miscellaneous, Local 1021</td>\n",
       "      <td>2400</td>\n",
       "      <td>...</td>\n",
       "      <td>2450</td>\n",
       "      <td>Pharmacist</td>\n",
       "      <td>45556</td>\n",
       "      <td>101.91</td>\n",
       "      <td>941.12</td>\n",
       "      <td>30063.72</td>\n",
       "      <td>12504.74</td>\n",
       "      <td>9051.38</td>\n",
       "      <td>51619.84</td>\n",
       "      <td>3</td>\n",
       "    </tr>\n",
       "    <tr>\n",
       "      <th>140798</th>\n",
       "      <td>76076</td>\n",
       "      <td>Fiscal</td>\n",
       "      <td>2015</td>\n",
       "      <td>4</td>\n",
       "      <td>Community Health</td>\n",
       "      <td>DPH</td>\n",
       "      <td>DPH Public Health</td>\n",
       "      <td>790</td>\n",
       "      <td>SEIU - Miscellaneous, Local 1021</td>\n",
       "      <td>1400</td>\n",
       "      <td>...</td>\n",
       "      <td>1404</td>\n",
       "      <td>Clerk</td>\n",
       "      <td>10673</td>\n",
       "      <td>1854.00</td>\n",
       "      <td>968.64</td>\n",
       "      <td>13979.23</td>\n",
       "      <td>12501.45</td>\n",
       "      <td>4662.82</td>\n",
       "      <td>31143.50</td>\n",
       "      <td>2</td>\n",
       "    </tr>\n",
       "    <tr>\n",
       "      <th>79035</th>\n",
       "      <td>87086</td>\n",
       "      <td>Fiscal</td>\n",
       "      <td>2014</td>\n",
       "      <td>2</td>\n",
       "      <td>Public Works, Transportation &amp; Commerce</td>\n",
       "      <td>AIR</td>\n",
       "      <td>AIR Airport Commission</td>\n",
       "      <td>21</td>\n",
       "      <td>Prof &amp; Tech Engineers - Miscellaneous, Local 21</td>\n",
       "      <td>5500</td>\n",
       "      <td>...</td>\n",
       "      <td>5504</td>\n",
       "      <td>Project Manager 2</td>\n",
       "      <td>552</td>\n",
       "      <td>0.00</td>\n",
       "      <td>0.00</td>\n",
       "      <td>31131.09</td>\n",
       "      <td>12516.72</td>\n",
       "      <td>9610.54</td>\n",
       "      <td>53258.35</td>\n",
       "      <td>3</td>\n",
       "    </tr>\n",
       "    <tr>\n",
       "      <th>119620</th>\n",
       "      <td>97923</td>\n",
       "      <td>Fiscal</td>\n",
       "      <td>2015</td>\n",
       "      <td>2</td>\n",
       "      <td>Public Works, Transportation &amp; Commerce</td>\n",
       "      <td>WTR</td>\n",
       "      <td>WTR Water Enterprise</td>\n",
       "      <td>21</td>\n",
       "      <td>Prof &amp; Tech Engineers - Miscellaneous, Local 21</td>\n",
       "      <td>5200</td>\n",
       "      <td>...</td>\n",
       "      <td>5241</td>\n",
       "      <td>Engineer</td>\n",
       "      <td>7008</td>\n",
       "      <td>0.00</td>\n",
       "      <td>0.00</td>\n",
       "      <td>28854.26</td>\n",
       "      <td>12270.95</td>\n",
       "      <td>9973.30</td>\n",
       "      <td>51098.51</td>\n",
       "      <td>3</td>\n",
       "    </tr>\n",
       "  </tbody>\n",
       "</table>\n",
       "<p>5 rows × 21 columns</p>\n",
       "</div>"
      ],
      "text/plain": [
       "           Sno Year Type  Year  Organization Group Code  \\\n",
       "53010   189438    Fiscal  2016                        2   \n",
       "98777    78195    Fiscal  2014                        4   \n",
       "140798   76076    Fiscal  2015                        4   \n",
       "79035    87086    Fiscal  2014                        2   \n",
       "119620   97923    Fiscal  2015                        2   \n",
       "\n",
       "                             Organization Group Department Code  \\\n",
       "53010   Public Works, Transportation & Commerce             MTA   \n",
       "98777                          Community Health             DPH   \n",
       "140798                         Community Health             DPH   \n",
       "79035   Public Works, Transportation & Commerce             AIR   \n",
       "119620  Public Works, Transportation & Commerce             WTR   \n",
       "\n",
       "                           Department  Union Code  \\\n",
       "53010   MTA Municipal Transprtn Agncy         790   \n",
       "98777               DPH Public Health         790   \n",
       "140798              DPH Public Health         790   \n",
       "79035          AIR Airport Commission          21   \n",
       "119620           WTR Water Enterprise          21   \n",
       "\n",
       "                                                  Union Job Family Code  ...  \\\n",
       "53010                  SEIU - Miscellaneous, Local 1021            9100  ...   \n",
       "98777                  SEIU - Miscellaneous, Local 1021            2400  ...   \n",
       "140798                 SEIU - Miscellaneous, Local 1021            1400  ...   \n",
       "79035   Prof & Tech Engineers - Miscellaneous, Local 21            5500  ...   \n",
       "119620  Prof & Tech Engineers - Miscellaneous, Local 21            5200  ...   \n",
       "\n",
       "       Job Code                           Job Employee Identifier  Overtime  \\\n",
       "53010      9117  Pr Fare Collections Receiver               26300      0.00   \n",
       "98777      2450                    Pharmacist               45556    101.91   \n",
       "140798     1404                         Clerk               10673   1854.00   \n",
       "79035      5504             Project Manager 2                 552      0.00   \n",
       "119620     5241                      Engineer                7008      0.00   \n",
       "\n",
       "        Other Salaries  Retirement  Health/Dental  Other Benefits  \\\n",
       "53010             0.00     9310.13        8473.86         4056.88   \n",
       "98777           941.12    30063.72       12504.74         9051.38   \n",
       "140798          968.64    13979.23       12501.45         4662.82   \n",
       "79035             0.00    31131.09       12516.72         9610.54   \n",
       "119620            0.00    28854.26       12270.95         9973.30   \n",
       "\n",
       "        Total Benefits  Class  \n",
       "53010         21840.87      2  \n",
       "98777         51619.84      3  \n",
       "140798        31143.50      2  \n",
       "79035         53258.35      3  \n",
       "119620        51098.51      3  \n",
       "\n",
       "[5 rows x 21 columns]"
      ]
     },
     "execution_count": 4,
     "metadata": {},
     "output_type": "execute_result"
    }
   ],
   "source": [
    "train.sample(5)"
   ]
  },
  {
   "cell_type": "code",
   "execution_count": 5,
   "metadata": {},
   "outputs": [],
   "source": [
    "# Drop individual salaray components.\n",
    "train.drop(['Retirement', 'Health/Dental', 'Other Benefits'], axis = 1, inplace=True)"
   ]
  },
  {
   "cell_type": "code",
   "execution_count": 6,
   "metadata": {},
   "outputs": [],
   "source": [
    "# Drop Redundant Information\n",
    "train.drop(['Organization Group', 'Department', 'Union', 'Job Family', 'Job', 'Employee Identifier'], axis = 1, inplace=True)"
   ]
  },
  {
   "cell_type": "code",
   "execution_count": 7,
   "metadata": {},
   "outputs": [],
   "source": [
    "train.drop(['Sno'], axis = 1, inplace=True)"
   ]
  },
  {
   "cell_type": "code",
   "execution_count": 8,
   "metadata": {},
   "outputs": [
    {
     "name": "stdout",
     "output_type": "stream",
     "text": [
      "<class 'pandas.core.frame.DataFrame'>\n",
      "RangeIndex: 149087 entries, 0 to 149086\n",
      "Data columns (total 11 columns):\n",
      "Year Type                  149087 non-null object\n",
      "Year                       149087 non-null int64\n",
      "Organization Group Code    149087 non-null int64\n",
      "Department Code            149087 non-null object\n",
      "Union Code                 149087 non-null int64\n",
      "Job Family Code            149087 non-null object\n",
      "Job Code                   149087 non-null object\n",
      "Overtime                   149087 non-null float64\n",
      "Other Salaries             149087 non-null float64\n",
      "Total Benefits             149087 non-null float64\n",
      "Class                      149087 non-null int64\n",
      "dtypes: float64(3), int64(4), object(4)\n",
      "memory usage: 12.5+ MB\n"
     ]
    }
   ],
   "source": [
    "train.info()"
   ]
  },
  {
   "cell_type": "code",
   "execution_count": 9,
   "metadata": {},
   "outputs": [],
   "source": [
    "# drop Year Type as it contains a single value.\n",
    "train.drop(['Year Type'], axis = 1, inplace=True)"
   ]
  },
  {
   "cell_type": "code",
   "execution_count": 10,
   "metadata": {},
   "outputs": [],
   "source": [
    "# Map Department Code to Numerical Values\n",
    "dc_le = preprocessing.LabelEncoder()\n",
    "dc_le.fit(train['Department Code'])\n",
    "train['Department Code'] = dc_le.transform(train['Department Code'])\n",
    "\n",
    "# Map Job Family Code to Numerical Values\n",
    "jfc_le = preprocessing.LabelEncoder()\n",
    "jfc_le.fit(train['Job Family Code'])\n",
    "train['Job Family Code'] = jfc_le.transform(train['Job Family Code'])\n",
    "\n",
    "# Map Job Code to Numerical Values\n",
    "jc_le = preprocessing.LabelEncoder()\n",
    "jc_le.fit(train['Job Code'])\n",
    "train['Job Code'] = jc_le.transform(train['Job Code'])"
   ]
  },
  {
   "cell_type": "code",
   "execution_count": 11,
   "metadata": {},
   "outputs": [],
   "source": [
    "Q1 = train.quantile(0.25)\n",
    "Q3 = train.quantile(0.75)\n",
    "IQR = Q3 - Q1\n",
    "\n",
    "LOWER = Q1 - 1.5 * IQR\n",
    "UPPER = Q3 + 1.5 * IQR\n",
    "\n",
    "\n",
    "train=train[~((train < (Q1 - 1.5 * IQR)) |(train > (Q3 + 1.5 * IQR))).any(axis=1)]\n",
    "\n",
    "train = train[(train['Total Benefits'] > LOWER['Total Benefits']) & (train['Total Benefits'] < UPPER['Total Benefits'])]\n",
    "train = train[(train['Overtime'] > LOWER['Overtime']) & (train['Overtime'] < UPPER['Overtime'])]\n",
    "train = train[(train['Other Salaries'] > LOWER['Other Salaries']) & (train['Other Salaries'] < UPPER['Other Salaries'])]\n",
    "\n",
    "train = train[(train['Total Benefits'] > 0)]\n",
    "train = train[(train['Overtime'] > 0)]\n",
    "train = train[(train['Other Salaries'] > 0)]"
   ]
  },
  {
   "cell_type": "code",
   "execution_count": 12,
   "metadata": {},
   "outputs": [
    {
     "data": {
      "text/plain": [
       "(28577, 10)"
      ]
     },
     "execution_count": 12,
     "metadata": {},
     "output_type": "execute_result"
    }
   ],
   "source": [
    "train.shape"
   ]
  },
  {
   "cell_type": "code",
   "execution_count": 13,
   "metadata": {},
   "outputs": [
    {
     "data": {
      "text/plain": [
       "<matplotlib.axes._subplots.AxesSubplot at 0x1a438d38198>"
      ]
     },
     "execution_count": 13,
     "metadata": {},
     "output_type": "execute_result"
    },
    {
     "data": {
      "image/png": "[encoded data removed]",
      "text/plain": [
       "<Figure size 432x288 with 1 Axes>"
      ]
     },
     "metadata": {
      "needs_background": "light"
     },
     "output_type": "display_data"
    }
   ],
   "source": [
    "sns.boxplot(train['Total Benefits'],orient = 'v')"
   ]
  },
  {
   "cell_type": "code",
   "execution_count": 14,
   "metadata": {},
   "outputs": [
    {
     "data": {
      "text/plain": [
       "<matplotlib.axes._subplots.AxesSubplot at 0x1a438d08dd8>"
      ]
     },
     "execution_count": 14,
     "metadata": {},
     "output_type": "execute_result"
    },
    {
     "data": {
      "image/png": "[encoded data removed]",
      "text/plain": [
       "<Figure size 432x288 with 1 Axes>"
      ]
     },
     "metadata": {
      "needs_background": "light"
     },
     "output_type": "display_data"
    }
   ],
   "source": [
    "sns.distplot(train['Total Benefits'])"
   ]
  },
  {
   "cell_type": "code",
   "execution_count": 15,
   "metadata": {},
   "outputs": [
    {
     "data": {
      "text/html": [
       "<div>\n",
       "<style scoped>\n",
       "    .dataframe tbody tr th:only-of-type {\n",
       "        vertical-align: middle;\n",
       "    }\n",
       "\n",
       "    .dataframe tbody tr th {\n",
       "        vertical-align: top;\n",
       "    }\n",
       "\n",
       "    .dataframe thead th {\n",
       "        text-align: right;\n",
       "    }\n",
       "</style>\n",
       "<table border=\"1\" class=\"dataframe\">\n",
       "  <thead>\n",
       "    <tr style=\"text-align: right;\">\n",
       "      <th></th>\n",
       "      <th>count</th>\n",
       "      <th>mean</th>\n",
       "      <th>std</th>\n",
       "      <th>min</th>\n",
       "      <th>25%</th>\n",
       "      <th>50%</th>\n",
       "      <th>75%</th>\n",
       "      <th>max</th>\n",
       "    </tr>\n",
       "  </thead>\n",
       "  <tbody>\n",
       "    <tr>\n",
       "      <th>Year</th>\n",
       "      <td>28577.0</td>\n",
       "      <td>2015.070931</td>\n",
       "      <td>1.417047</td>\n",
       "      <td>2013.00</td>\n",
       "      <td>2014.00</td>\n",
       "      <td>2015.00</td>\n",
       "      <td>2016.00</td>\n",
       "      <td>2017.00</td>\n",
       "    </tr>\n",
       "    <tr>\n",
       "      <th>Organization Group Code</th>\n",
       "      <td>28577.0</td>\n",
       "      <td>2.740071</td>\n",
       "      <td>1.470754</td>\n",
       "      <td>1.00</td>\n",
       "      <td>2.00</td>\n",
       "      <td>2.00</td>\n",
       "      <td>4.00</td>\n",
       "      <td>7.00</td>\n",
       "    </tr>\n",
       "    <tr>\n",
       "      <th>Department Code</th>\n",
       "      <td>28577.0</td>\n",
       "      <td>29.395773</td>\n",
       "      <td>13.166189</td>\n",
       "      <td>0.00</td>\n",
       "      <td>20.00</td>\n",
       "      <td>34.00</td>\n",
       "      <td>41.00</td>\n",
       "      <td>55.00</td>\n",
       "    </tr>\n",
       "    <tr>\n",
       "      <th>Union Code</th>\n",
       "      <td>28577.0</td>\n",
       "      <td>496.310250</td>\n",
       "      <td>307.725307</td>\n",
       "      <td>1.00</td>\n",
       "      <td>250.00</td>\n",
       "      <td>498.00</td>\n",
       "      <td>790.00</td>\n",
       "      <td>969.00</td>\n",
       "    </tr>\n",
       "    <tr>\n",
       "      <th>Job Family Code</th>\n",
       "      <td>28577.0</td>\n",
       "      <td>32.275396</td>\n",
       "      <td>16.987719</td>\n",
       "      <td>0.00</td>\n",
       "      <td>15.00</td>\n",
       "      <td>38.00</td>\n",
       "      <td>47.00</td>\n",
       "      <td>61.00</td>\n",
       "    </tr>\n",
       "    <tr>\n",
       "      <th>Job Code</th>\n",
       "      <td>28577.0</td>\n",
       "      <td>687.078280</td>\n",
       "      <td>344.412768</td>\n",
       "      <td>0.00</td>\n",
       "      <td>349.00</td>\n",
       "      <td>771.00</td>\n",
       "      <td>994.00</td>\n",
       "      <td>1140.00</td>\n",
       "    </tr>\n",
       "    <tr>\n",
       "      <th>Overtime</th>\n",
       "      <td>28577.0</td>\n",
       "      <td>2290.301360</td>\n",
       "      <td>2040.133462</td>\n",
       "      <td>0.30</td>\n",
       "      <td>499.96</td>\n",
       "      <td>1667.57</td>\n",
       "      <td>3758.18</td>\n",
       "      <td>7178.58</td>\n",
       "    </tr>\n",
       "    <tr>\n",
       "      <th>Other Salaries</th>\n",
       "      <td>28577.0</td>\n",
       "      <td>3086.212255</td>\n",
       "      <td>2964.660347</td>\n",
       "      <td>0.69</td>\n",
       "      <td>735.91</td>\n",
       "      <td>1952.30</td>\n",
       "      <td>4740.91</td>\n",
       "      <td>11391.90</td>\n",
       "    </tr>\n",
       "    <tr>\n",
       "      <th>Total Benefits</th>\n",
       "      <td>28577.0</td>\n",
       "      <td>26731.156869</td>\n",
       "      <td>11865.945544</td>\n",
       "      <td>1.91</td>\n",
       "      <td>18803.48</td>\n",
       "      <td>29843.85</td>\n",
       "      <td>34689.26</td>\n",
       "      <td>81882.28</td>\n",
       "    </tr>\n",
       "    <tr>\n",
       "      <th>Class</th>\n",
       "      <td>28577.0</td>\n",
       "      <td>1.978339</td>\n",
       "      <td>0.692798</td>\n",
       "      <td>1.00</td>\n",
       "      <td>1.00</td>\n",
       "      <td>2.00</td>\n",
       "      <td>2.00</td>\n",
       "      <td>3.00</td>\n",
       "    </tr>\n",
       "  </tbody>\n",
       "</table>\n",
       "</div>"
      ],
      "text/plain": [
       "                           count          mean           std      min  \\\n",
       "Year                     28577.0   2015.070931      1.417047  2013.00   \n",
       "Organization Group Code  28577.0      2.740071      1.470754     1.00   \n",
       "Department Code          28577.0     29.395773     13.166189     0.00   \n",
       "Union Code               28577.0    496.310250    307.725307     1.00   \n",
       "Job Family Code          28577.0     32.275396     16.987719     0.00   \n",
       "Job Code                 28577.0    687.078280    344.412768     0.00   \n",
       "Overtime                 28577.0   2290.301360   2040.133462     0.30   \n",
       "Other Salaries           28577.0   3086.212255   2964.660347     0.69   \n",
       "Total Benefits           28577.0  26731.156869  11865.945544     1.91   \n",
       "Class                    28577.0      1.978339      0.692798     1.00   \n",
       "\n",
       "                              25%       50%       75%       max  \n",
       "Year                      2014.00   2015.00   2016.00   2017.00  \n",
       "Organization Group Code      2.00      2.00      4.00      7.00  \n",
       "Department Code             20.00     34.00     41.00     55.00  \n",
       "Union Code                 250.00    498.00    790.00    969.00  \n",
       "Job Family Code             15.00     38.00     47.00     61.00  \n",
       "Job Code                   349.00    771.00    994.00   1140.00  \n",
       "Overtime                   499.96   1667.57   3758.18   7178.58  \n",
       "Other Salaries             735.91   1952.30   4740.91  11391.90  \n",
       "Total Benefits           18803.48  29843.85  34689.26  81882.28  \n",
       "Class                        1.00      2.00      2.00      3.00  "
      ]
     },
     "execution_count": 15,
     "metadata": {},
     "output_type": "execute_result"
    }
   ],
   "source": [
    "train.describe().transpose()"
   ]
  },
  {
   "cell_type": "code",
   "execution_count": 16,
   "metadata": {
    "scrolled": false
   },
   "outputs": [
    {
     "name": "stdout",
     "output_type": "stream",
     "text": [
      "<class 'pandas.core.frame.DataFrame'>\n",
      "Int64Index: 28577 entries, 4 to 149086\n",
      "Data columns (total 10 columns):\n",
      "Year                       28577 non-null int64\n",
      "Organization Group Code    28577 non-null int64\n",
      "Department Code            28577 non-null int32\n",
      "Union Code                 28577 non-null int64\n",
      "Job Family Code            28577 non-null int32\n",
      "Job Code                   28577 non-null int32\n",
      "Overtime                   28577 non-null float64\n",
      "Other Salaries             28577 non-null float64\n",
      "Total Benefits             28577 non-null float64\n",
      "Class                      28577 non-null int64\n",
      "dtypes: float64(3), int32(3), int64(4)\n",
      "memory usage: 2.1 MB\n"
     ]
    }
   ],
   "source": [
    "train.info()"
   ]
  },
  {
   "cell_type": "code",
   "execution_count": 17,
   "metadata": {},
   "outputs": [],
   "source": [
    "X = train.drop('Class', axis=1)\n",
    "y = train.pop('Class')"
   ]
  },
  {
   "cell_type": "code",
   "execution_count": 18,
   "metadata": {},
   "outputs": [],
   "source": [
    "accuracy = []\n",
    "labels = []"
   ]
  },
  {
   "cell_type": "code",
   "execution_count": 19,
   "metadata": {},
   "outputs": [
    {
     "name": "stdout",
     "output_type": "stream",
     "text": [
      "[0.90870934 0.91640434 0.91605456 0.91710388 0.91392582 0.9100455\n",
      " 0.91879594 0.91179559 0.91176471 0.90616246]\n",
      "0.9130762148093237\n"
     ]
    }
   ],
   "source": [
    "rfc_model = RandomForestClassifier(n_estimators=200, max_depth=5, random_state=0)\n",
    "accuracy_scores = cross_val_score(rfc_model, X, y, scoring='accuracy', cv = 10, n_jobs = 4)\n",
    "\n",
    "print(accuracy_scores)\n",
    "print(np.mean(accuracy_scores))\n",
    "\n",
    "for score in accuracy_scores:\n",
    "    accuracy.append(score)\n",
    "    labels.append('RandomForrest')"
   ]
  },
  {
   "cell_type": "code",
   "execution_count": 20,
   "metadata": {},
   "outputs": [
    {
     "name": "stdout",
     "output_type": "stream",
     "text": [
      "[0.84435117 0.84644981 0.8440014  0.85239594 0.85094472 0.83934197\n",
      " 0.8540427  0.8480924  0.85504202 0.84348739]\n",
      "0.8478149523294712\n"
     ]
    }
   ],
   "source": [
    "lgr_model = LogisticRegression(multi_class = 'auto', solver = 'lbfgs', random_state=0)\n",
    "accuracy_scores = cross_val_score(lgr_model, X, y, scoring='accuracy', cv = 10, n_jobs = 4)\n",
    "\n",
    "print(accuracy_scores)\n",
    "print(np.mean(accuracy_scores))\n",
    "\n",
    "for score in accuracy_scores:\n",
    "    accuracy.append(score)\n",
    "    labels.append('LogisticRegression')"
   ]
  },
  {
   "cell_type": "code",
   "execution_count": 21,
   "metadata": {},
   "outputs": [
    {
     "name": "stdout",
     "output_type": "stream",
     "text": [
      "[0.95977615 0.96257433 0.96047569 0.95767751 0.96291113 0.95869793\n",
      " 0.96219811 0.96044802 0.95728291 0.94887955]\n",
      "0.9590921331464157\n"
     ]
    }
   ],
   "source": [
    "bag_model = BaggingClassifier(n_estimators=50)\n",
    "accuracy_scores = cross_val_score(bag_model, X, y, scoring='accuracy', cv = 10, n_jobs = 4)\n",
    "\n",
    "print(accuracy_scores)\n",
    "print(np.mean(accuracy_scores))\n",
    "\n",
    "for score in accuracy_scores:\n",
    "    accuracy.append(score)\n",
    "    labels.append('BaggingClassifier')"
   ]
  },
  {
   "cell_type": "code",
   "execution_count": 22,
   "metadata": {},
   "outputs": [
    {
     "name": "stdout",
     "output_type": "stream",
     "text": [
      "[0.9475341  0.94928297 0.9475341  0.95208115 0.95381386 0.94819741\n",
      " 0.95239762 0.95379769 0.94887955 0.94572829]\n",
      "0.9499246737609139\n"
     ]
    }
   ],
   "source": [
    "gradBoost_model = GradientBoostingClassifier(n_estimators=100)\n",
    "accuracy_scores = cross_val_score(gradBoost_model, X, y, scoring='accuracy', cv = 10, n_jobs = 4)\n",
    "\n",
    "print(accuracy_scores)\n",
    "print(np.mean(accuracy_scores))\n",
    "\n",
    "for score in accuracy_scores:\n",
    "    accuracy.append(score)\n",
    "    labels.append('GradientBoostingClassifier')"
   ]
  },
  {
   "cell_type": "code",
   "execution_count": null,
   "metadata": {},
   "outputs": [
    {
     "name": "stdout",
     "output_type": "stream",
     "text": [
      "[0.55683806 0.72682756 0.76425324 0.78488982 0.75857243 0.71508575\n",
      " 0.63528176 0.41617081 0.72408964 0.75980392]\n",
      "0.6841812986972499\n"
     ]
    }
   ],
   "source": [
    "svc_model = LinearSVC()\n",
    "accuracy_scores = cross_val_score(svc_model, X, y, scoring='accuracy', cv = 10, n_jobs = 4)\n",
    "\n",
    "print(accuracy_scores)\n",
    "print(np.mean(accuracy_scores))\n",
    "\n",
    "for score in accuracy_scores:\n",
    "    accuracy.append(score)\n",
    "    labels.append('SupportVectorClassifier')"
   ]
  },
  {
   "cell_type": "code",
   "execution_count": null,
   "metadata": {},
   "outputs": [],
   "source": [
    "adaboost_model = AdaBoostClassifier(n_estimators=100)\n",
    "accuracy_scores = cross_val_score(adaboost_model, X, y, scoring='accuracy', cv = 10, n_jobs = 4)\n",
    "\n",
    "print(accuracy_scores)\n",
    "print(np.mean(accuracy_scores))\n",
    "\n",
    "for score in accuracy_scores:\n",
    "    accuracy.append(score)\n",
    "    labels.append('AdaBoostClassifier')"
   ]
  },
  {
   "cell_type": "code",
   "execution_count": null,
   "metadata": {},
   "outputs": [],
   "source": [
    "df = pd.DataFrame()\n",
    "df['accuracy'] = accuracy\n",
    "df['classifier'] = labels"
   ]
  },
  {
   "cell_type": "code",
   "execution_count": null,
   "metadata": {},
   "outputs": [],
   "source": [
    "# Set style of scatterplot\n",
    "sns.set_context(\"notebook\", font_scale=1.1)\n",
    "sns.set_style(\"ticks\")\n",
    "\n",
    "# Create scatterplot of dataframe\n",
    "lm = sns.lmplot('classifier', # Horizontal axis\n",
    "           'accuracy', # Vertical axis\n",
    "           data=df, # Data source\n",
    "           fit_reg=False, # Don't fix a regression line\n",
    "           hue=\"classifier\", # Set color\n",
    "           scatter_kws={\"marker\": \"D\", # Set marker style\n",
    "                        \"s\": 20}) # S marker size\n",
    "\n",
    "lm.set_xticklabels(rotation=90)\n",
    " \n",
    "lm.fig.suptitle('Accuracy scores for different Classifier Models', fontsize=14)"
   ]
  },
  {
   "cell_type": "code",
   "execution_count": null,
   "metadata": {},
   "outputs": [],
   "source": [
    "test = pd.read_csv('test.csv')\n",
    "\n",
    "# Drop individual salaray components.\n",
    "test.drop(['Retirement', 'Health/Dental', 'Other Benefits'], axis = 1, inplace=True)\n",
    "\n",
    "# Drop Redundant Information\n",
    "test.drop(['Organization Group', 'Department', 'Union', 'Job Family', 'Job', 'Employee Identifier'], axis = 1, inplace=True)\n",
    "\n",
    "# Drop useless Serial Number column\n",
    "test.drop(['Sno'], axis = 1, inplace=True)\n",
    "\n",
    "# drop Year Type as it contains a single value.\n",
    "test.drop(['Year Type'], axis = 1, inplace=True)\n",
    "\n",
    "# Map Department Code to Numerical Values\n",
    "test['Department Code'] = dc_le.transform(test['Department Code'])\n",
    "\n",
    "# Map Job Family Code to Numerical Values\n",
    "test['Job Family Code'] = jfc_le.transform(test['Job Family Code'])\n",
    "\n",
    "# Map Job Code to Numerical Values\n",
    "test['Job Code'] = jc_le.transform(test['Job Code'])\n",
    "\n",
    "X_test = test.drop('Class', axis=1)\n",
    "\n",
    "y_test_pred_rf = rf_model.predict(X_test)\n",
    "\n",
    "y_test_pred_bagC = bag_model.predict(X_test)"
   ]
  },
  {
   "cell_type": "code",
   "execution_count": null,
   "metadata": {},
   "outputs": [],
   "source": [
    "test = test[(test['Total Benefits'] > LOWER['Total Benefits']) & (test['Total Benefits'] < UPPER['Total Benefits'])]\n",
    "test = test[(test['Overtime'] > LOWER['Overtime']) & (test['Overtime'] < UPPER['Overtime'])]\n",
    "test = test[(test['Other Salaries'] > LOWER['Other Salaries']) & (test['Other Salaries'] < UPPER['Other Salaries'])]\n",
    "\n",
    "test = test[(test['Total Benefits'] > 0)]\n",
    "test = test[(test['Overtime'] > 0)]\n",
    "test = test[(test['Other Salaries'] > 0)]"
   ]
  }
 ],
 "metadata": {
  "kernelspec": {
   "display_name": "Python 3",
   "language": "python",
   "name": "python3"
  },
  "language_info": {
   "codemirror_mode": {
    "name": "ipython",
    "version": 3
   },
   "file_extension": ".py",
   "mimetype": "text/x-python",
   "name": "python",
   "nbconvert_exporter": "python",
   "pygments_lexer": "ipython3",
   "version": "3.6.4"
  }
 },
 "nbformat": 4,
 "nbformat_minor": 2
}
